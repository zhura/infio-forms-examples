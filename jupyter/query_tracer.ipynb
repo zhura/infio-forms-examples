{
 "cells": [
  {
   "cell_type": "code",
   "execution_count": 1,
   "id": "254d5935",
   "metadata": {},
   "outputs": [],
   "source": [
    "from infio.jupyter import query_tracer"
   ]
  },
  {
   "cell_type": "code",
   "execution_count": 2,
   "id": "fea27b8b",
   "metadata": {},
   "outputs": [
    {
     "data": {
      "application/vnd.jupyter.widget-view+json": {
       "model_id": "a417583502f74a3d9f08ccbd488e1f18",
       "version_major": 2,
       "version_minor": 0
      },
      "text/plain": [
       "QueryTracerdWidget(graph=Graph(edges=[Edge(data={'caption': 'CohortWeightCohort', 'content': 'CohortWeightCoho…"
      ]
     },
     "metadata": {},
     "output_type": "display_data"
    }
   ],
   "source": [
    "query_tracer('data/test_query.sql')"
   ]
  },
  {
   "cell_type": "code",
   "execution_count": null,
   "id": "e6c3d219",
   "metadata": {},
   "outputs": [],
   "source": []
  }
 ],
 "metadata": {
  "kernelspec": {
   "display_name": "Python 3",
   "language": "python",
   "name": "python3"
  },
  "language_info": {
   "codemirror_mode": {
    "name": "ipython",
    "version": 3
   },
   "file_extension": ".py",
   "mimetype": "text/x-python",
   "name": "python",
   "nbconvert_exporter": "python",
   "pygments_lexer": "ipython3",
   "version": "3.9.5"
  }
 },
 "nbformat": 4,
 "nbformat_minor": 5
}
