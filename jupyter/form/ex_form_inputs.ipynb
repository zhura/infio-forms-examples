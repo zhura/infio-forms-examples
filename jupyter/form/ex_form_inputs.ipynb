{
 "cells": [
  {
   "cell_type": "code",
   "execution_count": 1,
   "id": "fa7c27ae",
   "metadata": {},
   "outputs": [],
   "source": [
    "import infio.forms as ctrls\n",
    "from infio.jupyter.forms import render_form\n",
    "from datetime import date\n",
    "from datetime import datetime\n",
    "import time"
   ]
  },
  {
   "cell_type": "code",
   "execution_count": 2,
   "id": "51323640",
   "metadata": {},
   "outputs": [],
   "source": [
    "class Inputs(ctrls.Container):\n",
    "    def __init__(self, heading: str=None):\n",
    "        self.heading = heading\n",
    "        \n",
    "        self.name = ctrls.text(\"Name\", size=150, required=True)\n",
    "        self.salary = ctrls.numeric(\"Salary\", min=300, max=1000, required=True)"
   ]
  },
  {
   "cell_type": "code",
   "execution_count": 3,
   "id": "a3abd9e8",
   "metadata": {},
   "outputs": [],
   "source": [
    "class Checkboxes(ctrls.Container):\n",
    "    def __init__(self, heading: str=None):\n",
    "        self.heading = heading\n",
    "        \n",
    "        self.is_admin = ctrls.check_box(\"Administrator?\", required=True)\n",
    "        \n",
    "        self.roles1 = ctrls.check_list(\"Role(s)\", items={\"admin\": \"Administrator\", \"user\": \"Regular user\", \"super_admin\": \"Super Admin\"}, required=True)\n",
    "        self.roles2 = ctrls.check_list(\"Role(s)\", items=[\"Administrator\", \"Regular user\", \"Super Admin\"], required=True)"
   ]
  },
  {
   "cell_type": "code",
   "execution_count": 4,
   "id": "49fbfdaf",
   "metadata": {},
   "outputs": [],
   "source": [
    "class Dropdowns(ctrls.Container):\n",
    "    def __init__(self, heading: str=None):\n",
    "        self.heading = heading\n",
    "        \n",
    "        self.roles1 = ctrls.drop_down_check_list(\"Role(s)\", items={\"admin\": \"Administrator\", \"user\": \"Regular user\", \"super_admin\": \"Super Admin\"}, required=True)\n",
    "        self.roles2 = ctrls.drop_down_check_list(\"Role(s)\", items=[\"Administrator\", \"Regular user\", \"Super Admin\"], required=True)\n",
    "        \n",
    "        self.role3 = ctrls.drop_down_list(\"Role\", items={\"admin\": \"Administrator\", \"user\": \"Regular user\", \"super_admin\": \"Super Admin\"}, required=True)\n",
    "        self.role4 = ctrls.drop_down_list(\"Role\", items=[\"Administrator\", \"Regular user\", \"Super Admin\"], required=True)"
   ]
  },
  {
   "cell_type": "code",
   "execution_count": 5,
   "id": "b8ae4af0",
   "metadata": {},
   "outputs": [],
   "source": [
    "class RadioButtons(ctrls.Container):\n",
    "    def __init__(self, heading: str=None):\n",
    "        self.heading = heading\n",
    "\n",
    "        self.role1 = ctrls.radio_button(\"Role\", items={\"admin\": \"Administrator\", \"user\": \"Regular user\", \"super_admin\": \"Super Admin\"}, required=True)\n",
    "        self.role2 = ctrls.radio_button(\"Role\", items=[\"Administrator\", \"Regular user\", \"Super Admin\"], required=True)"
   ]
  },
  {
   "cell_type": "code",
   "execution_count": 6,
   "id": "6bcc01ed",
   "metadata": {},
   "outputs": [],
   "source": [
    "class DateTime(ctrls.Container):\n",
    "    def __init__(self, heading: str=None):\n",
    "        self.heading = heading\n",
    "        \n",
    "        self.date_of_birth1 = ctrls.date(\"Birthday 1\", required=True)\n",
    "        self.date_of_birth2 = ctrls.date(\"Birthday 2\", required=True)\n",
    "        \n",
    "        self.date_of_birth3 = ctrls.date_time(\"Birthday 3\", required=True)\n",
    "        self.date_of_birth4 = ctrls.date_time(\"Birthday 4\", required=True)"
   ]
  },
  {
   "cell_type": "code",
   "execution_count": 7,
   "id": "170f7cc6",
   "metadata": {},
   "outputs": [],
   "source": [
    "class ApplicationForm(ctrls.Form):\n",
    "    def __init__(self):\n",
    "        self.inputs = Inputs(\"Inputs\")\n",
    "        self.checkboxes = Checkboxes(\"Checkboxes\")\n",
    "        self.dropdowns = Dropdowns(\"Dropdowns\")\n",
    "        self.radio_buttons = RadioButtons(\"Radio Buttons\")\n",
    "        self.date_time = DateTime(\"Date & Time\")\n",
    "        \n",
    "    def on_save(self):\n",
    "        data = self.get_value()\n",
    "        \n",
    "        time.sleep(2)\n",
    "        \n",
    "        print(data)"
   ]
  },
  {
   "cell_type": "code",
   "execution_count": 8,
   "id": "f7c224ad",
   "metadata": {},
   "outputs": [],
   "source": [
    "form_data = {\n",
    "    \"inputs\": {\n",
    "        \"name\": \"Vasya Pupkin\",\n",
    "        \"salary\": 500,\n",
    "    },\n",
    "    \"checkboxes\": {\n",
    "        \"is_admin\": True,\n",
    "        \"roles1\": [\"user\"],\n",
    "        \"roles2\": [\"Administrator\"]\n",
    "    },\n",
    "    \"dropdowns\": {\n",
    "        \"roles1\": [\"admin\", \"super_admin\"],\n",
    "        \"roles2\": [\"Regular user\"],\n",
    "        \"role3\": \"user\",\n",
    "        \"role4\": \"Administrator\"\n",
    "    },\n",
    "    \"radio_buttons\": {\n",
    "        \"role1\": \"user\",\n",
    "        \"role2\": \"Administrator\"\n",
    "    },\n",
    "    \"date_time\": {\n",
    "        \"date_of_birth1\": date(2021, 6, 22),\n",
    "        \"date_of_birth2\": \"1970/06/22\",\n",
    "        \"date_of_birth3\": datetime(2021, 6, 22, 11, 25, 30),\n",
    "        \"date_of_birth4\": \"1970/06/22 11:25:30\"\n",
    "    }\n",
    "}"
   ]
  },
  {
   "cell_type": "code",
   "execution_count": 9,
   "id": "a25205e8",
   "metadata": {},
   "outputs": [],
   "source": [
    "form = ApplicationForm()\n",
    "form.set_value(form_data)"
   ]
  },
  {
   "cell_type": "code",
   "execution_count": 10,
   "id": "96b2b3fe",
   "metadata": {},
   "outputs": [
    {
     "data": {
      "application/vnd.jupyter.widget-view+json": {
       "model_id": "de44505586c1496285470ec3a9506235",
       "version_major": 2,
       "version_minor": 0
      },
      "text/plain": [
       "JsonSchemaFormWidget(form=JsonSchemaForm(data={'checkboxes': {'is_admin': True, 'roles1': ['user'], 'roles2': …"
      ]
     },
     "metadata": {},
     "output_type": "display_data"
    }
   ],
   "source": [
    "render_form(form)"
   ]
  },
  {
   "cell_type": "code",
   "execution_count": null,
   "id": "294c211a",
   "metadata": {},
   "outputs": [],
   "source": []
  }
 ],
 "metadata": {
  "kernelspec": {
   "display_name": "Python 3",
   "language": "python",
   "name": "python3"
  },
  "language_info": {
   "codemirror_mode": {
    "name": "ipython",
    "version": 3
   },
   "file_extension": ".py",
   "mimetype": "text/x-python",
   "name": "python",
   "nbconvert_exporter": "python",
   "pygments_lexer": "ipython3",
   "version": "3.9.5"
  }
 },
 "nbformat": 4,
 "nbformat_minor": 5
}
