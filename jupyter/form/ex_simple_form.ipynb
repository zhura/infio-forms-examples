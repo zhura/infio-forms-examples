{
 "cells": [
  {
   "cell_type": "code",
   "execution_count": 7,
   "id": "4d831a59",
   "metadata": {},
   "outputs": [],
   "source": [
    "import infio.forms as ctrls\n",
    "from infio.jupyter.forms import render_form"
   ]
  },
  {
   "cell_type": "code",
   "execution_count": 8,
   "id": "319431b3",
   "metadata": {},
   "outputs": [],
   "source": [
    "class Applicant(ctrls.Container):\n",
    "    def __init__(self, heading: str=None):\n",
    "        self.heading = heading\n",
    "\n",
    "        self.first_name = ctrls.text(\"First Name\", size=150, required=True)\n",
    "        self.middle_name = ctrls.text(\"Middle Name\", size=150)\n",
    "        self.last_name = ctrls.text(\"Last Name\", size=150, required=True)\n",
    "\n",
    "    def validate(self):\n",
    "        first_name = self.first_name.get_value()\n",
    "        last_name = self.last_name.get_value()\n",
    "        middle_name = self.middle_name.get_value()\n",
    "\n",
    "        if not first_name and not last_name:\n",
    "            self.set_error(\"Either %s or %s must have a value.\", data=(first_name, last_name))\n",
    "        if \" \" in middle_name:\n",
    "            self.middle_name.set_error(\"Spaces are not allowed\")"
   ]
  },
  {
   "cell_type": "code",
   "execution_count": 9,
   "id": "ab7b8d84",
   "metadata": {},
   "outputs": [],
   "source": [
    "class ApplicationForm(ctrls.Form):\n",
    "    def __init__(self):\n",
    "        self.main_applicant = Applicant(\"Main Applicant\")\n",
    "        self.co_applicant = Applicant(\"Co-applicant\")"
   ]
  },
  {
   "cell_type": "code",
   "execution_count": 10,
   "id": "5a50c87d",
   "metadata": {},
   "outputs": [],
   "source": [
    "form_data = {\n",
    "    \"main_applicant\": {\n",
    "        \"first_name\": \"Vasya\",\n",
    "        \"middle_name\": \"V.\",\n",
    "        \"last_name\": \"Pupkin\"\n",
    "    },\n",
    "    \"co_applicant\": {\n",
    "        \"first_name\": \"Petya\",\n",
    "        \"middle_name\": \"S.\",\n",
    "        \"last_name\": \"Sidorov\"\n",
    "    }\n",
    "}"
   ]
  },
  {
   "cell_type": "code",
   "execution_count": 11,
   "id": "d4868337",
   "metadata": {},
   "outputs": [],
   "source": [
    "form = ApplicationForm()\n",
    "form.set_value(form_data)"
   ]
  },
  {
   "cell_type": "code",
   "execution_count": 12,
   "id": "5403e2f7",
   "metadata": {},
   "outputs": [
    {
     "data": {
      "application/vnd.jupyter.widget-view+json": {
       "model_id": "0a7570fb6a234c15a686476b2a813440",
       "version_major": 2,
       "version_minor": 0
      },
      "text/plain": [
       "JsonSchemaFormWidget(form=JsonSchemaForm(data={'co_applicant': {'first_name': 'Petya', 'last_name': 'Sidorov',…"
      ]
     },
     "metadata": {},
     "output_type": "display_data"
    }
   ],
   "source": [
    "render_form(form)"
   ]
  },
  {
   "cell_type": "code",
   "execution_count": null,
   "id": "764bee85",
   "metadata": {},
   "outputs": [],
   "source": []
  }
 ],
 "metadata": {
  "kernelspec": {
   "display_name": "Python 3",
   "language": "python",
   "name": "python3"
  },
  "language_info": {
   "codemirror_mode": {
    "name": "ipython",
    "version": 3
   },
   "file_extension": ".py",
   "mimetype": "text/x-python",
   "name": "python",
   "nbconvert_exporter": "python",
   "pygments_lexer": "ipython3",
   "version": "3.9.5"
  }
 },
 "nbformat": 4,
 "nbformat_minor": 5
}
