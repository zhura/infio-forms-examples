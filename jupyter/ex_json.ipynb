{
 "cells": [
  {
   "cell_type": "code",
   "execution_count": 1,
   "metadata": {},
   "outputs": [],
   "source": [
    "from infio.jupyter import GraphBoardWidget, LinkAction, PopupAction, TooltipAction"
   ]
  },
  {
   "cell_type": "code",
   "execution_count": 2,
   "metadata": {},
   "outputs": [],
   "source": [
    "board = GraphBoardWidget()"
   ]
  },
  {
   "cell_type": "code",
   "execution_count": 3,
   "metadata": {},
   "outputs": [],
   "source": [
    "board.read_json('data/graph.json')"
   ]
  },
  {
   "cell_type": "code",
   "execution_count": 4,
   "metadata": {},
   "outputs": [],
   "source": [
    "board.add_node_action('click', LinkAction(\"https://google.com?q={{caption}} and {{content}}\"), \"node1\")"
   ]
  },
  {
   "cell_type": "code",
   "execution_count": 5,
   "metadata": {},
   "outputs": [],
   "source": [
    "board.add_node_action('double-click', PopupAction(\"<b>Double Click</b><hr /><br /><b>Caption: {{caption}}</b> <br /> Content: {{content}}\", \"right\"), [\"node1\", \"node2\"])"
   ]
  },
  {
   "cell_type": "code",
   "execution_count": 6,
   "metadata": {},
   "outputs": [],
   "source": [
    "board.add_edge_action('right-click', PopupAction(\"<b>Right Click</b><hr /><br /><b>Caption is {{caption}}</b> <br /> Content is {{content}}\", \"left\"), (\"node1\", \"node2\"))"
   ]
  },
  {
   "cell_type": "code",
   "execution_count": 7,
   "metadata": {},
   "outputs": [],
   "source": [
    "board.add_edge_action('hover', TooltipAction(\"<b>Hover</b><hr /><br /><b>Caption is {{caption}}</b> <br /> Content is {{content}}\", \"top\"), [(\"node3\", \"node2\"), (\"node3\", \"node1\")])"
   ]
  },
  {
   "cell_type": "code",
   "execution_count": 8,
   "metadata": {},
   "outputs": [],
   "source": [
    "board.add_node_action('hover', TooltipAction(\"<b>Hover</b><hr /><br /><b>Caption is {{caption}}</b> <br /> Content is {{content}}\", \"top\"), \"node3\")"
   ]
  },
  {
   "cell_type": "code",
   "execution_count": 9,
   "metadata": {},
   "outputs": [
    {
     "data": {
      "application/vnd.jupyter.widget-view+json": {
       "model_id": "07cb0bdf7e854f4f8dd9f73dd682fe23",
       "version_major": 2,
       "version_minor": 0
      },
      "text/plain": [
       "GraphBoardWidget(graph=Graph(edges=[Edge(data={'caption': 'Caption 21', 'content': 'Content 21'}, source='node…"
      ]
     },
     "metadata": {},
     "output_type": "display_data"
    }
   ],
   "source": [
    "board"
   ]
  },
  {
   "cell_type": "code",
   "execution_count": null,
   "metadata": {},
   "outputs": [],
   "source": []
  }
 ],
 "metadata": {
  "kernelspec": {
   "display_name": "Python 3",
   "language": "python",
   "name": "python3"
  },
  "language_info": {
   "codemirror_mode": {
    "name": "ipython",
    "version": 3
   },
   "file_extension": ".py",
   "mimetype": "text/x-python",
   "name": "python",
   "nbconvert_exporter": "python",
   "pygments_lexer": "ipython3",
   "version": "3.9.5"
  }
 },
 "nbformat": 4,
 "nbformat_minor": 4
}
