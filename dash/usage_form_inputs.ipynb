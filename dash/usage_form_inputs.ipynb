{
 "cells": [
  {
   "cell_type": "code",
   "execution_count": 2,
   "id": "cbf61bc9",
   "metadata": {},
   "outputs": [],
   "source": [
    "import infio.forms as ctrls\n",
    "from infio.dash.forms import create_app_jupyter\n",
    "from datetime import date\n",
    "from datetime import datetime\n",
    "import time"
   ]
  },
  {
   "cell_type": "code",
   "execution_count": 3,
   "id": "d251a2df",
   "metadata": {},
   "outputs": [],
   "source": [
    "class Inputs(ctrls.Container):\n",
    "    def __init__(self, heading: str=None):\n",
    "        self.heading = heading\n",
    "        \n",
    "        self.name = ctrls.text(\"Name\", size=150, required=True)\n",
    "        self.salary = ctrls.numeric(\"Salary\", min=300, max=1000, required=True)"
   ]
  },
  {
   "cell_type": "code",
   "execution_count": 4,
   "id": "62b3bbdf",
   "metadata": {},
   "outputs": [],
   "source": [
    "class Checkboxes(ctrls.Container):\n",
    "    def __init__(self, heading: str=None):\n",
    "        self.heading = heading\n",
    "        \n",
    "        self.is_admin = ctrls.check_box(\"Administrator?\", required=True)\n",
    "        \n",
    "        self.roles1 = ctrls.check_list(\"Role(s)\", items={\"admin\": \"Administrator\", \"user\": \"Regular user\", \"super_admin\": \"Super Admin\"}, required=True)\n",
    "        self.roles2 = ctrls.check_list(\"Role(s)\", items=[\"Administrator\", \"Regular user\", \"Super Admin\"], required=True)"
   ]
  },
  {
   "cell_type": "code",
   "execution_count": 5,
   "id": "84dc8e1c",
   "metadata": {},
   "outputs": [],
   "source": [
    "class Dropdowns(ctrls.Container):\n",
    "    def __init__(self, heading: str=None):\n",
    "        self.heading = heading\n",
    "        \n",
    "        self.roles1 = ctrls.drop_down_check_list(\"Role(s)\", items={\"admin\": \"Administrator\", \"user\": \"Regular user\", \"super_admin\": \"Super Admin\"}, required=True)\n",
    "        self.roles2 = ctrls.drop_down_check_list(\"Role(s)\", items=[\"Administrator\", \"Regular user\", \"Super Admin\"], required=True)\n",
    "        \n",
    "        self.role3 = ctrls.drop_down_list(\"Role\", items={\"admin\": \"Administrator\", \"user\": \"Regular user\", \"super_admin\": \"Super Admin\"}, required=True)\n",
    "        self.role4 = ctrls.drop_down_list(\"Role\", items=[\"Administrator\", \"Regular user\", \"Super Admin\"], required=True)"
   ]
  },
  {
   "cell_type": "code",
   "execution_count": 6,
   "id": "ba7dd5b6",
   "metadata": {},
   "outputs": [],
   "source": [
    "class RadioButtons(ctrls.Container):\n",
    "    def __init__(self, heading: str=None):\n",
    "        self.heading = heading\n",
    "\n",
    "        self.role1 = ctrls.radio_button(\"Role\", items={\"admin\": \"Administrator\", \"user\": \"Regular user\", \"super_admin\": \"Super Admin\"}, required=True)\n",
    "        self.role2 = ctrls.radio_button(\"Role\", items=[\"Administrator\", \"Regular user\", \"Super Admin\"], required=True)"
   ]
  },
  {
   "cell_type": "code",
   "execution_count": 7,
   "id": "26ae4810",
   "metadata": {},
   "outputs": [],
   "source": [
    "class DateTime(ctrls.Container):\n",
    "    def __init__(self, heading: str=None):\n",
    "        self.heading = heading\n",
    "        \n",
    "        self.date_of_birth1 = ctrls.date(\"Birthday 1\", required=True)\n",
    "        self.date_of_birth2 = ctrls.date(\"Birthday 2\", required=True)\n",
    "        \n",
    "        self.date_of_birth3 = ctrls.date_time(\"Birthday 3\", required=True)\n",
    "        self.date_of_birth4 = ctrls.date_time(\"Birthday 4\", required=True)"
   ]
  },
  {
   "cell_type": "code",
   "execution_count": 8,
   "id": "93f43d78",
   "metadata": {},
   "outputs": [],
   "source": [
    "class ApplicationForm(ctrls.Form):\n",
    "    def __init__(self):\n",
    "        self.inputs = Inputs(\"Inputs\")\n",
    "        self.checkboxes = Checkboxes(\"Checkboxes\")\n",
    "        self.dropdowns = Dropdowns(\"Dropdowns\")\n",
    "        self.radio_buttons = RadioButtons(\"Radio Buttons\")\n",
    "        self.date_time = DateTime(\"Date & Time\")\n",
    "        \n",
    "    def on_save(self):\n",
    "        data = self.get_value()\n",
    "        \n",
    "        time.sleep(2)\n",
    "        \n",
    "        print(data)"
   ]
  },
  {
   "cell_type": "code",
   "execution_count": 9,
   "id": "4a195912",
   "metadata": {},
   "outputs": [],
   "source": [
    "form_data = {\n",
    "    \"inputs\": {\n",
    "        \"name\": \"Vasya Pupkin\",\n",
    "        \"salary\": 500,\n",
    "    },\n",
    "    \"checkboxes\": {\n",
    "        \"is_admin\": True,\n",
    "        \"roles1\": [\"user\"],\n",
    "        \"roles2\": [\"Administrator\"]\n",
    "    },\n",
    "    \"dropdowns\": {\n",
    "        \"roles1\": [\"admin\", \"super_admin\"],\n",
    "        \"roles2\": [\"Regular user\"],\n",
    "        \"role3\": \"user\",\n",
    "        \"role4\": \"Administrator\"\n",
    "    },\n",
    "    \"radio_buttons\": {\n",
    "        \"role1\": \"user\",\n",
    "        \"role2\": \"Administrator\"\n",
    "    },\n",
    "    \"date_time\": {\n",
    "        \"date_of_birth1\": date(2021, 6, 22),\n",
    "        \"date_of_birth2\": \"1970/06/22\",\n",
    "        \"date_of_birth3\": datetime(2021, 6, 22, 11, 25, 30),\n",
    "        \"date_of_birth4\": \"1970/06/22 11:25:30\"\n",
    "    }\n",
    "}"
   ]
  },
  {
   "cell_type": "code",
   "execution_count": 10,
   "id": "f5f3ecd6",
   "metadata": {},
   "outputs": [],
   "source": [
    "form = ApplicationForm()\n",
    "form.set_value(form_data)"
   ]
  },
  {
   "cell_type": "code",
   "execution_count": null,
   "id": "e0000902",
   "metadata": {},
   "outputs": [],
   "source": [
    "app = create_app_jupyter()\n",
    "app.render_form(form)"
   ]
  },
  {
   "cell_type": "code",
   "execution_count": 13,
   "id": "6fea5107",
   "metadata": {
    "tags": [
     "outputPrepend"
    ]
   },
   "outputs": [
    {
     "data": {
      "text/html": [
       "\n",
       "        <iframe\n",
       "            width=\"100%\"\n",
       "            height=\"650\"\n",
       "            src=\"http://127.0.0.1:8050/\"\n",
       "            frameborder=\"0\"\n",
       "            allowfullscreen\n",
       "        ></iframe>\n",
       "        "
      ],
      "text/plain": [
       "<IPython.lib.display.IFrame at 0x7f1df562d5e0>"
      ]
     },
     "metadata": {},
     "output_type": "display_data"
    }
   ],
   "source": [
    "app.run_jupyter(mode=\"inline\")"
   ]
  },
  {
   "cell_type": "code",
   "execution_count": null,
   "id": "3e5f6cca",
   "metadata": {},
   "outputs": [],
   "source": []
  },
  {
   "cell_type": "code",
   "execution_count": null,
   "id": "2e802150",
   "metadata": {},
   "outputs": [],
   "source": []
  },
  {
   "cell_type": "code",
   "execution_count": null,
   "id": "1d6c1189",
   "metadata": {},
   "outputs": [],
   "source": []
  },
  {
   "cell_type": "code",
   "execution_count": null,
   "id": "14b19f9d",
   "metadata": {},
   "outputs": [],
   "source": []
  }
 ],
 "metadata": {
  "interpreter": {
   "hash": "81dbc4564b7b285a8c13e5824327c9a000042c7c153eb771a1858d5c69c7bdf8"
  },
  "kernelspec": {
   "display_name": "Python 3",
   "language": "python",
   "name": "python3"
  },
  "language_info": {
   "codemirror_mode": {
    "name": "ipython",
    "version": 3
   },
   "file_extension": ".py",
   "mimetype": "text/x-python",
   "name": "python",
   "nbconvert_exporter": "python",
   "pygments_lexer": "ipython3",
   "version": "3.9.5"
  }
 },
 "nbformat": 4,
 "nbformat_minor": 5
}
