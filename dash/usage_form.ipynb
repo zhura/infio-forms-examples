{
 "cells": [
  {
   "cell_type": "code",
   "execution_count": 1,
   "id": "6472cccb",
   "metadata": {},
   "outputs": [],
   "source": [
    "import infio.forms as ctrls\n",
    "from infio.dash.forms import create_app_jupyter"
   ]
  },
  {
   "cell_type": "code",
   "execution_count": 2,
   "id": "562bc840",
   "metadata": {},
   "outputs": [],
   "source": [
    "class Applicant(ctrls.Container):\n",
    "    def __init__(self, heading: str=None):\n",
    "        self.heading = heading\n",
    "\n",
    "        self.first_name = ctrls.text(\"First Name\", size=150, required=True)\n",
    "        self.middle_name = ctrls.text(\"Middle Name\", size=150)\n",
    "        self.last_name = ctrls.text(\"Last Name\", size=150, required=True)\n",
    "\n",
    "    def validate(self):\n",
    "        first_name = self.first_name.get_value()\n",
    "        last_name = self.last_name.get_value()\n",
    "        middle_name = self.middle_name.get_value()\n",
    "\n",
    "        if not first_name and not last_name:\n",
    "            self.set_error(\"Either %s or %s must have a value.\", data=(first_name, last_name))\n",
    "        if \" \" in middle_name:\n",
    "            self.middle_name.set_error(\"Spaces are not allowed\")"
   ]
  },
  {
   "cell_type": "code",
   "execution_count": 3,
   "id": "1bd7638a",
   "metadata": {},
   "outputs": [],
   "source": [
    "class ApplicationForm(ctrls.Form):\n",
    "    def __init__(self):\n",
    "        self.main_applicant = Applicant(\"Main Applicant\")\n",
    "        self.co_applicant = Applicant(\"Co-applicant\")"
   ]
  },
  {
   "cell_type": "code",
   "execution_count": 4,
   "id": "05012e9b",
   "metadata": {},
   "outputs": [],
   "source": [
    "form_data = {\n",
    "    \"main_applicant\": {\n",
    "        \"first_name\": \"Vasya\",\n",
    "        \"middle_name\": \"V.\",\n",
    "        \"last_name\": \"Pupkin\"\n",
    "    },\n",
    "    \"co_applicant\": {\n",
    "        \"first_name\": \"Petya\",\n",
    "        \"middle_name\": \"S.\",\n",
    "        \"last_name\": \"Sidorov\"\n",
    "    }\n",
    "}"
   ]
  },
  {
   "cell_type": "code",
   "execution_count": 5,
   "id": "bce98191",
   "metadata": {},
   "outputs": [],
   "source": [
    "form = ApplicationForm()\n",
    "form.set_value(form_data)"
   ]
  },
  {
   "cell_type": "code",
   "execution_count": null,
   "id": "a4dac348",
   "metadata": {},
   "outputs": [],
   "source": [
    "app = create_app_jupyter()\n",
    "app.render_form(form)"
   ]
  },
  {
   "cell_type": "code",
   "execution_count": 8,
   "id": "d42a1abf",
   "metadata": {},
   "outputs": [
    {
     "data": {
      "text/html": [
       "\n",
       "        <iframe\n",
       "            width=\"100%\"\n",
       "            height=\"650\"\n",
       "            src=\"http://127.0.0.1:8050/\"\n",
       "            frameborder=\"0\"\n",
       "            allowfullscreen\n",
       "        ></iframe>\n",
       "        "
      ],
      "text/plain": [
       "<IPython.lib.display.IFrame at 0x7fd04eef05b0>"
      ]
     },
     "metadata": {},
     "output_type": "display_data"
    }
   ],
   "source": [
    "app.run_jupyter(mode=\"inline\")"
   ]
  },
  {
   "cell_type": "code",
   "execution_count": null,
   "id": "7e20eacd",
   "metadata": {},
   "outputs": [],
   "source": []
  }
 ],
 "metadata": {
  "kernelspec": {
   "display_name": "Python 3",
   "language": "python",
   "name": "python3"
  },
  "language_info": {
   "codemirror_mode": {
    "name": "ipython",
    "version": 3
   },
   "file_extension": ".py",
   "mimetype": "text/x-python",
   "name": "python",
   "nbconvert_exporter": "python",
   "pygments_lexer": "ipython3",
   "version": "3.9.5"
  }
 },
 "nbformat": 4,
 "nbformat_minor": 5
}
